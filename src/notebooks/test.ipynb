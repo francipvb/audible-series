{
 "cells": [
  {
   "cell_type": "markdown",
   "metadata": {},
   "source": [
    "# Test audioplot library\n",
    "\n",
    "This notebook is a tiny showcase of the core components of the library.\n"
   ]
  },
  {
   "cell_type": "code",
   "execution_count": 1,
   "metadata": {},
   "outputs": [],
   "source": [
    "import datetime as dt\n",
    "\n",
    "import numpy as np\n",
    "\n",
    "import audible_plot as ap\n",
    "\n",
    "player = ap.AudioPlayer()\n",
    "generator = ap.SineToneGenerator()"
   ]
  },
  {
   "cell_type": "markdown",
   "metadata": {},
   "source": [
    "Here we generate some samples and play them with the player object.\n",
    "\n",
    "The player object is an intermediate object to abstract audio playback and encoding, you can play the audio the way you like.\n",
    "\n",
    "The sample format is float64, so you would need to convert it to the format you like before playing it.\n"
   ]
  },
  {
   "cell_type": "code",
   "execution_count": 2,
   "metadata": {},
   "outputs": [],
   "source": [
    "sample1 = generator.generate_wave(44100, dt.timedelta(milliseconds=250), 250, 300)\n",
    "sample2 = generator.generate_wave(44100, dt.timedelta(milliseconds=1000), 300, 400)\n",
    "sample3 = generator.generate_wave(44100, dt.timedelta(seconds=2), 400, 250)\n",
    "sample4 = generator.generate_wave(44100, dt.timedelta(seconds=1), 250, 250)\n",
    "sample5 = generator.generate_wave(44100, dt.timedelta(seconds=2), 250, 440)\n",
    "sample6 = generator.generate_wave(44100, dt.timedelta(seconds=2), 440)\n",
    "samples = np.vstack((sample1, sample2, sample3, sample4, sample5, sample6))\n",
    "player.play_raw(samples)"
   ]
  },
  {
   "cell_type": "markdown",
   "metadata": {},
   "source": [
    "## Concepts:\n",
    "\n",
    "- **Chart:** A group of related data series. The requirement of the series is to have the same length.\n",
    "- **Series:** A sequence of float values. Here we use _NumPY_ to generate the example values.\n",
    "- **Renderer:** A renderer maps values to frequency and then generates an audio sample from them.\n",
    "- **Windows:** A window of data. This is needed to get the range of values in a given time.\n",
    "\n",
    "I have to refactor this to be more usable with NumPY, Pandas and other data-related libraries.\n"
   ]
  },
  {
   "cell_type": "code",
   "execution_count": 3,
   "metadata": {},
   "outputs": [],
   "source": [
    "chart = ap.AudibleChart(\n",
    "    max_freq=800,\n",
    "    min_freq=300,\n",
    "    series=[\n",
    "        ap.AudibleSeries(\n",
    "            np.linspace(0, 10, 15),\n",
    "            ap.PitchDataRenderer(\n",
    "                ap.FixedRange(300, 800),\n",
    "                ap.SineToneGenerator(),\n",
    "                pan=-0.7,\n",
    "                volume=0.2,\n",
    "                enable_transitions=True,\n",
    "            ),\n",
    "            \"test1\",\n",
    "        ),\n",
    "        ap.AudibleSeries(\n",
    "            np.linspace(2, 9, 15),\n",
    "            ap.PitchDataRenderer(\n",
    "                ap.FixedRange(300, 800),\n",
    "                ap.SineToneGenerator(),\n",
    "                pan=0.7,\n",
    "                volume=0.2,\n",
    "                enable_transitions=True,\n",
    "            ),\n",
    "            \"test2\",\n",
    "        ),\n",
    "    ],\n",
    ")"
   ]
  },
  {
   "cell_type": "code",
   "execution_count": 4,
   "metadata": {},
   "outputs": [
    {
     "data": {
      "text/plain": [
       "np.float64(9.0)"
      ]
     },
     "execution_count": 4,
     "metadata": {},
     "output_type": "execute_result"
    }
   ],
   "source": [
    "# Get a window of data from the chart\n",
    "window = chart.window(0, 15)\n",
    "\n",
    "# Get a particular value of the chart window\n",
    "# TODO: Implement `__getitem__` to support this with a less verbose way\n",
    "window[\"test2\"][-1]"
   ]
  },
  {
   "cell_type": "code",
   "execution_count": 5,
   "metadata": {},
   "outputs": [],
   "source": [
    "# Play a chart window\n",
    "window.play(\"all\")"
   ]
  },
  {
   "cell_type": "code",
   "execution_count": 7,
   "metadata": {},
   "outputs": [],
   "source": [
    "# Play a particular series:\n",
    "window.play(\"test1\")"
   ]
  },
  {
   "cell_type": "code",
   "execution_count": 8,
   "metadata": {},
   "outputs": [],
   "source": [
    "# Give a starting point to a series to play\n",
    "window.play(\"test2\", slice(10, 15))"
   ]
  },
  {
   "cell_type": "markdown",
   "metadata": {},
   "source": [
    "I didn't found a way to remove microclips between samples...\n"
   ]
  }
 ],
 "metadata": {
  "kernelspec": {
   "display_name": ".venv",
   "language": "python",
   "name": "python3"
  },
  "language_info": {
   "codemirror_mode": {
    "name": "ipython",
    "version": 3
   },
   "file_extension": ".py",
   "mimetype": "text/x-python",
   "name": "python",
   "nbconvert_exporter": "python",
   "pygments_lexer": "ipython3",
   "version": "3.12.7"
  }
 },
 "nbformat": 4,
 "nbformat_minor": 2
}
