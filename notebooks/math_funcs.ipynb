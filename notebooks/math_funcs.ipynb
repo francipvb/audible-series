{
 "cells": [
  {
   "cell_type": "markdown",
   "metadata": {},
   "source": [
    "# Playing with math functions\n",
    "\n",
    "## Introduction\n",
    "\n",
    "In this notebook I play a little with math related functions, particularly with sine and cosine functions to get an audible view of their graphical representation.\n"
   ]
  },
  {
   "cell_type": "code",
   "execution_count": 1,
   "metadata": {},
   "outputs": [],
   "source": [
    "# Imports:\n",
    "from datetime import timedelta\n",
    "\n",
    "import numpy as np\n",
    "\n",
    "import audible_plot as ap"
   ]
  },
  {
   "cell_type": "code",
   "execution_count": 2,
   "metadata": {},
   "outputs": [],
   "source": [
    "# The range for sine and cosine functions is between -1 and 1\n",
    "func_range = ap.FixedRange(-1, 1)\n",
    "\n",
    "# This is our frequency range:\n",
    "freq_range = ap.FixedRange(300, 800)\n",
    "\n",
    "# Values for five periods of the functions:\n",
    "values = np.linspace(0, np.pi * 10, 100, endpoint=False)\n",
    "\n",
    "# Function calculations:\n",
    "sine = np.sin(values)\n",
    "cosine = np.cos(values)"
   ]
  },
  {
   "cell_type": "code",
   "execution_count": 3,
   "metadata": {},
   "outputs": [],
   "source": [
    "# Renderer objects are used to generate audio samples from values:\n",
    "sine_renderer = ap.PitchDataRenderer(\n",
    "    generator=ap.ToneGenerator(),\n",
    "    volume=0.5,\n",
    "    pan=-0.3,\n",
    "    enable_transitions=True,\n",
    ")\n",
    "cosine_renderer = ap.PitchDataRenderer(\n",
    "    generator=ap.ToneGenerator(),\n",
    "    volume=0.5,\n",
    "    pan=0.3,\n",
    "    enable_transitions=True,\n",
    ")\n",
    "values_renderer = ap.PitchDataRenderer(\n",
    "    generator=ap.ToneGenerator(),\n",
    "    volume=0.5,\n",
    ")"
   ]
  },
  {
   "cell_type": "code",
   "execution_count": 4,
   "metadata": {},
   "outputs": [],
   "source": [
    "chart = ap.AudibleChart(\n",
    "    # Here we put the data we've generated into the chart object for processing\n",
    "    data=np.column_stack((values, sine, cosine)),\n",
    "    # If a data key is not in the config, it won't be rendered.\n",
    "    config=[\n",
    "        # Dynamic ranged series\n",
    "        ap.SeriesConfig(\n",
    "            key=0,\n",
    "            renderer=values_renderer,\n",
    "        ),\n",
    "        # Fixed range configs for sine and cosine functions\n",
    "        ap.SeriesConfig(\n",
    "            key=1,\n",
    "            renderer=sine_renderer,\n",
    "            range=func_range,\n",
    "        ),\n",
    "        ap.SeriesConfig(\n",
    "            key=2,\n",
    "            renderer=cosine_renderer,\n",
    "            range=func_range,\n",
    "        ),\n",
    "    ],\n",
    "    frequency_range=freq_range,\n",
    ")"
   ]
  },
  {
   "cell_type": "code",
   "execution_count": 5,
   "metadata": {},
   "outputs": [],
   "source": [
    "window = chart.window(slice(-10, None))"
   ]
  },
  {
   "cell_type": "code",
   "execution_count": 6,
   "metadata": {},
   "outputs": [],
   "source": [
    "window.play(1, duration=timedelta(milliseconds=50))"
   ]
  },
  {
   "cell_type": "code",
   "execution_count": 7,
   "metadata": {},
   "outputs": [],
   "source": [
    "window.play(2, duration=timedelta(milliseconds=50))"
   ]
  },
  {
   "cell_type": "code",
   "execution_count": 8,
   "metadata": {},
   "outputs": [],
   "source": [
    "window.play(duration=timedelta(milliseconds=500))"
   ]
  }
 ],
 "metadata": {
  "kernelspec": {
   "display_name": ".venv",
   "language": "python",
   "name": "python3"
  },
  "language_info": {
   "codemirror_mode": {
    "name": "ipython",
    "version": 3
   },
   "file_extension": ".py",
   "mimetype": "text/x-python",
   "name": "python",
   "nbconvert_exporter": "python",
   "pygments_lexer": "ipython3",
   "version": "3.12.7"
  }
 },
 "nbformat": 4,
 "nbformat_minor": 2
}
