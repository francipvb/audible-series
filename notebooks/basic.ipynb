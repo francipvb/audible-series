{
 "cells": [
  {
   "cell_type": "markdown",
   "metadata": {},
   "source": [
    "# Test audioplot library\n",
    "\n",
    "This notebook is a tiny showcase of the core components of the library.\n"
   ]
  },
  {
   "cell_type": "code",
   "execution_count": 1,
   "metadata": {},
   "outputs": [],
   "source": [
    "import audible_plot as ap\n",
    "import numpy as np\n",
    "\n",
    "player = ap.AudioPlayer()\n",
    "generator = ap.ToneGenerator()"
   ]
  },
  {
   "cell_type": "markdown",
   "metadata": {},
   "source": [
    "## Concepts:\n",
    "\n",
    "- **Chart:** A group of related data series. The requirement of the series is to have the same length.\n",
    "- **Series:** A sequence of float values. Here we use _NumPY_ to generate the example values.\n",
    "- **Renderer:** A renderer maps values to frequency and then generates an audio sample from them.\n",
    "- **Windows:** A window of data. This is needed to get the range of values in a given time.\n",
    "\n",
    "I have to refactor this to be more usable with NumPY, Pandas and other data-related libraries.\n"
   ]
  },
  {
   "cell_type": "code",
   "execution_count": 7,
   "metadata": {},
   "outputs": [],
   "source": [
    "freq_range = ap.FixedRange(300, 800)\n",
    "chart = ap.AudibleChart(\n",
    "    data=np.linspace((1, 2, 3), 10, 15),\n",
    "    config=[\n",
    "        ap.SeriesConfig(\n",
    "            key=0,\n",
    "            renderer=ap.PitchDataRenderer(\n",
    "                frequency_range=freq_range,\n",
    "                generator=generator,\n",
    "                enable_transitions=True,\n",
    "                volume=0.5,\n",
    "            ),\n",
    "        ),\n",
    "        ap.SeriesConfig(\n",
    "            key=1,\n",
    "            renderer=ap.PitchDataRenderer(\n",
    "                frequency_range=freq_range,\n",
    "                generator=generator,\n",
    "                enable_transitions=True,\n",
    "                volume=0.2,\n",
    "                pan=-0.3,\n",
    "            ),\n",
    "        ),\n",
    "        ap.SeriesConfig(\n",
    "            key=2,\n",
    "            renderer=ap.PitchDataRenderer(\n",
    "                frequency_range=freq_range,\n",
    "                generator=generator,\n",
    "                enable_transitions=True,\n",
    "                volume=0.2,\n",
    "                pan=0.3,\n",
    "            ),\n",
    "        ),\n",
    "    ],\n",
    ")"
   ]
  },
  {
   "cell_type": "code",
   "execution_count": 8,
   "metadata": {},
   "outputs": [
    {
     "data": {
      "text/plain": [
       "np.float64(10.0)"
      ]
     },
     "execution_count": 8,
     "metadata": {},
     "output_type": "execute_result"
    }
   ],
   "source": [
    "# Get a window of data from the chart\n",
    "window = chart.window()\n",
    "\n",
    "# Get a particular value of the chart window\n",
    "# TODO: Implement `__getitem__` to support this with a less verbose way\n",
    "window[2][-1]"
   ]
  },
  {
   "cell_type": "code",
   "execution_count": 9,
   "metadata": {},
   "outputs": [],
   "source": [
    "# Play a chart window\n",
    "window.play()"
   ]
  },
  {
   "cell_type": "code",
   "execution_count": 10,
   "metadata": {},
   "outputs": [],
   "source": [
    "# Play a particular series:\n",
    "window.play(1)"
   ]
  },
  {
   "cell_type": "code",
   "execution_count": 11,
   "metadata": {},
   "outputs": [],
   "source": [
    "# Give a starting point to a series to play\n",
    "window.play(1, slice(10, 15))"
   ]
  },
  {
   "cell_type": "markdown",
   "metadata": {},
   "source": [
    "I didn't found a way to remove microclips between samples...\n"
   ]
  }
 ],
 "metadata": {
  "kernelspec": {
   "display_name": ".venv",
   "language": "python",
   "name": "python3"
  },
  "language_info": {
   "codemirror_mode": {
    "name": "ipython",
    "version": 3
   },
   "file_extension": ".py",
   "mimetype": "text/x-python",
   "name": "python",
   "nbconvert_exporter": "python",
   "pygments_lexer": "ipython3",
   "version": "3.12.7"
  }
 },
 "nbformat": 4,
 "nbformat_minor": 2
}
