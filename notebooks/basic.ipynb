{
 "cells": [
  {
   "cell_type": "markdown",
   "metadata": {},
   "source": [
    "# Test audioplot library\n",
    "\n",
    "This notebook is a tiny showcase of the core components of the library.\n"
   ]
  },
  {
   "cell_type": "code",
   "execution_count": 1,
   "metadata": {},
   "outputs": [],
   "source": [
    "import audible_plot as ap\n",
    "import numpy as np\n",
    "\n",
    "player = ap.AudioPlayer()\n",
    "generator = ap.ToneGenerator()"
   ]
  },
  {
   "cell_type": "markdown",
   "metadata": {},
   "source": [
    "## Concepts:\n",
    "\n",
    "- **Chart:** A group of related data series. The requirement of the series is to have the same length.\n",
    "- **Series:** A sequence of float values. Here we use _NumPY_ to generate the example values.\n",
    "- **Renderer:** A renderer maps values to frequency and then generates an audio sample from them.\n",
    "- **Windows:** A window of data. This is needed to get the range of values in a given time.\n",
    "\n",
    "I have to refactor this to be more usable with NumPY, Pandas and other data-related libraries.\n"
   ]
  },
  {
   "cell_type": "code",
   "execution_count": 2,
   "metadata": {},
   "outputs": [],
   "source": [
    "freq_range = ap.FixedRange(300, 800)\n",
    "chart = ap.AudibleChart(\n",
    "    data=np.linspace((1, 2, 3), (10, 8, 6), 15),\n",
    "    config=[\n",
    "        ap.SeriesConfig(\n",
    "            key=0,\n",
    "            renderer=ap.PitchDataRenderer(\n",
    "                frequency_range=freq_range,\n",
    "                generator=generator,\n",
    "                enable_transitions=True,\n",
    "                volume=0.5,\n",
    "            ),\n",
    "        ),\n",
    "        ap.SeriesConfig(\n",
    "            key=1,\n",
    "            renderer=ap.PitchDataRenderer(\n",
    "                frequency_range=freq_range,\n",
    "                generator=generator,\n",
    "                enable_transitions=True,\n",
    "                volume=0.2,\n",
    "                pan=-0.3,\n",
    "            ),\n",
    "        ),\n",
    "        ap.SeriesConfig(\n",
    "            key=2,\n",
    "            renderer=ap.PitchDataRenderer(\n",
    "                frequency_range=freq_range,\n",
    "                generator=generator,\n",
    "                enable_transitions=True,\n",
    "                volume=0.2,\n",
    "                pan=0.3,\n",
    "            ),\n",
    "        ),\n",
    "    ],\n",
    ")"
   ]
  },
  {
   "cell_type": "code",
   "execution_count": 3,
   "metadata": {},
   "outputs": [
    {
     "data": {
      "text/plain": [
       "np.float64(6.0)"
      ]
     },
     "execution_count": 3,
     "metadata": {},
     "output_type": "execute_result"
    }
   ],
   "source": [
    "# Get a window of data from the chart\n",
    "window = chart.window()\n",
    "\n",
    "# Get a particular value of the chart window\n",
    "# TODO: Implement `__getitem__` to support this with a less verbose way\n",
    "window[2][-1]"
   ]
  },
  {
   "cell_type": "code",
   "execution_count": 4,
   "metadata": {},
   "outputs": [],
   "source": [
    "# Play a chart window\n",
    "window.play()"
   ]
  },
  {
   "cell_type": "code",
   "execution_count": 5,
   "metadata": {},
   "outputs": [
    {
     "ename": "KeyboardInterrupt",
     "evalue": "",
     "output_type": "error",
     "traceback": [
      "\u001b[1;31m---------------------------------------------------------------------------\u001b[0m",
      "\u001b[1;31mKeyboardInterrupt\u001b[0m                         Traceback (most recent call last)",
      "Cell \u001b[1;32mIn[5], line 2\u001b[0m\n\u001b[0;32m      1\u001b[0m \u001b[38;5;66;03m# Play a particular series:\u001b[39;00m\n\u001b[1;32m----> 2\u001b[0m \u001b[43mwindow\u001b[49m\u001b[38;5;241;43m.\u001b[39;49m\u001b[43mplay\u001b[49m\u001b[43m(\u001b[49m\u001b[38;5;241;43m1\u001b[39;49m\u001b[43m)\u001b[49m\n",
      "File \u001b[1;32m~\\audible-series\\libs\\audible-plot\\audible_plot\\chart.py:294\u001b[0m, in \u001b[0;36mAudibleChartWindow.play\u001b[1;34m(self, name, position, duration)\u001b[0m\n\u001b[0;32m    283\u001b[0m \u001b[38;5;28;01mdef\u001b[39;00m \u001b[38;5;21mplay\u001b[39m(\n\u001b[0;32m    284\u001b[0m     \u001b[38;5;28mself\u001b[39m,\n\u001b[0;32m    285\u001b[0m     name: Hashable \u001b[38;5;241m|\u001b[39m Literal[\u001b[38;5;124m\"\u001b[39m\u001b[38;5;124mall\u001b[39m\u001b[38;5;124m\"\u001b[39m] \u001b[38;5;241m=\u001b[39m \u001b[38;5;124m\"\u001b[39m\u001b[38;5;124mall\u001b[39m\u001b[38;5;124m\"\u001b[39m,\n\u001b[0;32m    286\u001b[0m     position: \u001b[38;5;28mint\u001b[39m \u001b[38;5;241m|\u001b[39m \u001b[38;5;28mslice\u001b[39m \u001b[38;5;241m|\u001b[39m \u001b[38;5;28;01mNone\u001b[39;00m \u001b[38;5;241m=\u001b[39m \u001b[38;5;28;01mNone\u001b[39;00m,\n\u001b[0;32m    287\u001b[0m     duration: timedelta \u001b[38;5;241m=\u001b[39m timedelta(seconds\u001b[38;5;241m=\u001b[39m\u001b[38;5;241m0.5\u001b[39m),\n\u001b[0;32m    288\u001b[0m ):\n\u001b[0;32m    289\u001b[0m     sample \u001b[38;5;241m=\u001b[39m \u001b[38;5;28mself\u001b[39m\u001b[38;5;241m.\u001b[39mrender(\n\u001b[0;32m    290\u001b[0m         name,\n\u001b[0;32m    291\u001b[0m         position,\n\u001b[0;32m    292\u001b[0m         duration,\n\u001b[0;32m    293\u001b[0m     )\n\u001b[1;32m--> 294\u001b[0m     \u001b[38;5;28;43mself\u001b[39;49m\u001b[38;5;241;43m.\u001b[39;49m\u001b[43m_player\u001b[49m\u001b[38;5;241;43m.\u001b[39;49m\u001b[43mplay_raw\u001b[49m\u001b[43m(\u001b[49m\u001b[43msample\u001b[49m\u001b[43m)\u001b[49m\n",
      "File \u001b[1;32m~\\audible-series\\libs\\audible-plot\\audible_plot\\player.py:19\u001b[0m, in \u001b[0;36mAudioPlayer.play_raw\u001b[1;34m(self, buffer)\u001b[0m\n\u001b[0;32m     11\u001b[0m \u001b[38;5;28;01mdef\u001b[39;00m \u001b[38;5;21mplay_raw\u001b[39m(\u001b[38;5;28mself\u001b[39m, buffer: AudioBuffer) \u001b[38;5;241m-\u001b[39m\u001b[38;5;241m>\u001b[39m \u001b[38;5;28;01mNone\u001b[39;00m:\n\u001b[0;32m     12\u001b[0m     stream \u001b[38;5;241m=\u001b[39m \u001b[38;5;28mself\u001b[39m\u001b[38;5;241m.\u001b[39m_pyaudio\u001b[38;5;241m.\u001b[39mopen(\n\u001b[0;32m     13\u001b[0m         rate\u001b[38;5;241m=\u001b[39m\u001b[38;5;241m44100\u001b[39m,\n\u001b[0;32m     14\u001b[0m         channels\u001b[38;5;241m=\u001b[39m\u001b[38;5;241m2\u001b[39m,\n\u001b[1;32m   (...)\u001b[0m\n\u001b[0;32m     17\u001b[0m         start\u001b[38;5;241m=\u001b[39m\u001b[38;5;28;01mTrue\u001b[39;00m,\n\u001b[0;32m     18\u001b[0m     )\n\u001b[1;32m---> 19\u001b[0m     \u001b[43mstream\u001b[49m\u001b[38;5;241;43m.\u001b[39;49m\u001b[43mwrite\u001b[49m\u001b[43m(\u001b[49m\u001b[43mbuffer\u001b[49m\u001b[38;5;241;43m.\u001b[39;49m\u001b[43mastype\u001b[49m\u001b[43m(\u001b[49m\u001b[43mnp\u001b[49m\u001b[38;5;241;43m.\u001b[39;49m\u001b[43mfloat32\u001b[49m\u001b[43m)\u001b[49m\u001b[38;5;241;43m.\u001b[39;49m\u001b[43mtobytes\u001b[49m\u001b[43m(\u001b[49m\u001b[43m)\u001b[49m\u001b[43m)\u001b[49m\n\u001b[0;32m     20\u001b[0m     stream\u001b[38;5;241m.\u001b[39mclose()\n",
      "File \u001b[1;32mc:\\Users\\franc\\audible-series\\.venv\\Lib\\site-packages\\pyaudio\\__init__.py:550\u001b[0m, in \u001b[0;36mPyAudio.Stream.write\u001b[1;34m(self, frames, num_frames, exception_on_underflow)\u001b[0m\n\u001b[0;32m    547\u001b[0m     width \u001b[38;5;241m=\u001b[39m get_sample_size(\u001b[38;5;28mself\u001b[39m\u001b[38;5;241m.\u001b[39m_format)\n\u001b[0;32m    548\u001b[0m     num_frames \u001b[38;5;241m=\u001b[39m \u001b[38;5;28mint\u001b[39m(\u001b[38;5;28mlen\u001b[39m(frames) \u001b[38;5;241m/\u001b[39m (\u001b[38;5;28mself\u001b[39m\u001b[38;5;241m.\u001b[39m_channels \u001b[38;5;241m*\u001b[39m width))\n\u001b[1;32m--> 550\u001b[0m \u001b[43mpa\u001b[49m\u001b[38;5;241;43m.\u001b[39;49m\u001b[43mwrite_stream\u001b[49m\u001b[43m(\u001b[49m\u001b[38;5;28;43mself\u001b[39;49m\u001b[38;5;241;43m.\u001b[39;49m\u001b[43m_stream\u001b[49m\u001b[43m,\u001b[49m\u001b[43m \u001b[49m\u001b[43mframes\u001b[49m\u001b[43m,\u001b[49m\u001b[43m \u001b[49m\u001b[43mnum_frames\u001b[49m\u001b[43m,\u001b[49m\n\u001b[0;32m    551\u001b[0m \u001b[43m                \u001b[49m\u001b[43mexception_on_underflow\u001b[49m\u001b[43m)\u001b[49m\n",
      "\u001b[1;31mKeyboardInterrupt\u001b[0m: "
     ]
    }
   ],
   "source": [
    "# Play a particular series:\n",
    "window.play(1)"
   ]
  },
  {
   "cell_type": "code",
   "execution_count": null,
   "metadata": {},
   "outputs": [],
   "source": [
    "# Give a starting point to a series to play\n",
    "window.play(1, slice(10, 15))"
   ]
  },
  {
   "cell_type": "markdown",
   "metadata": {},
   "source": [
    "I didn't found a way to remove microclips between samples...\n"
   ]
  }
 ],
 "metadata": {
  "kernelspec": {
   "display_name": ".venv",
   "language": "python",
   "name": "python3"
  },
  "language_info": {
   "codemirror_mode": {
    "name": "ipython",
    "version": 3
   },
   "file_extension": ".py",
   "mimetype": "text/x-python",
   "name": "python",
   "nbconvert_exporter": "python",
   "pygments_lexer": "ipython3",
   "version": "3.12.7"
  }
 },
 "nbformat": 4,
 "nbformat_minor": 2
}
